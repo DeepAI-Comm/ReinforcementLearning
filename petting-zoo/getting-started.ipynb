{
 "cells": [
  {
   "cell_type": "code",
   "execution_count": 1,
   "id": "81f9ddd9",
   "metadata": {},
   "outputs": [
    {
     "data": {
      "text/plain": [
       "<matplotlib.image.AxesImage at 0x7f2743cd9760>"
      ]
     },
     "execution_count": 1,
     "metadata": {},
     "output_type": "execute_result"
    },
    {
     "data": {
      "image/png": "[encoded data removed]",
      "text/plain": [
       "<Figure size 640x480 with 1 Axes>"
      ]
     },
     "metadata": {},
     "output_type": "display_data"
    }
   ],
   "source": [
    "from pettingzoo.butterfly import pistonball_v6\n",
    "import matplotlib.pyplot as plt\n",
    "\n",
    "env = pistonball_v6.env(render_mode = 'rgb_array')\n",
    "env.reset()\n",
    "plt.imshow(env.render())"
   ]
  },
  {
   "cell_type": "code",
   "execution_count": 2,
   "id": "8d392862",
   "metadata": {},
   "outputs": [
    {
     "name": "stderr",
     "output_type": "stream",
     "text": [
      "/home/asus/Documents/git/ReinforcementLearning/.env/lib/python3.9/site-packages/gymnasium/wrappers/record_video.py:79: UserWarning: \u001b[33mWARN: Overwriting existing videos at /home/asus/Documents/git/ReinforcementLearning/petting-zoo/video folder (try specifying a different `video_folder` for the `RecordVideo` wrapper if this is not desired)\u001b[0m\n",
      "  logger.warn(\n"
     ]
    }
   ],
   "source": [
    "from gymnasium.wrappers import RecordVideo\n",
    "vid_rec = RecordVideo(env = env, video_folder = './video')"
   ]
  },
  {
   "cell_type": "code",
   "execution_count": 8,
   "id": "f3d9921a",
   "metadata": {},
   "outputs": [
    {
     "name": "stdout",
     "output_type": "stream",
     "text": [
      "[-0.7080784]\n"
     ]
    }
   ],
   "source": [
    "action_test = env.action_space(agent).sample()\n",
    "print(action)"
   ]
  },
  {
   "cell_type": "code",
   "execution_count": 11,
   "id": "acbdb223",
   "metadata": {},
   "outputs": [
    {
     "name": "stdout",
     "output_type": "stream",
     "text": [
      "(array([[[ 58,  64,  65],\n",
      "        [ 58,  64,  65],\n",
      "        [ 58,  64,  65],\n",
      "        ...,\n",
      "        [255, 255, 255],\n",
      "        [255, 255, 255],\n",
      "        [255, 255, 255]],\n",
      "\n",
      "       [[ 58,  64,  65],\n",
      "        [ 58,  64,  65],\n",
      "        [ 58,  64,  65],\n",
      "        ...,\n",
      "        [255, 255, 255],\n",
      "        [255, 255, 255],\n",
      "        [255, 255, 255]],\n",
      "\n",
      "       [[ 58,  64,  65],\n",
      "        [ 58,  64,  65],\n",
      "        [ 58,  64,  65],\n",
      "        ...,\n",
      "        [255, 255, 255],\n",
      "        [255, 255, 255],\n",
      "        [255, 255, 255]],\n",
      "\n",
      "       ...,\n",
      "\n",
      "       [[ 58,  64,  65],\n",
      "        [ 58,  64,  65],\n",
      "        [ 58,  64,  65],\n",
      "        ...,\n",
      "        [255, 255, 255],\n",
      "        [255, 255, 255],\n",
      "        [255, 255, 255]],\n",
      "\n",
      "       [[ 58,  64,  65],\n",
      "        [ 58,  64,  65],\n",
      "        [ 58,  64,  65],\n",
      "        ...,\n",
      "        [255, 255, 255],\n",
      "        [255, 255, 255],\n",
      "        [255, 255, 255]],\n",
      "\n",
      "       [[ 58,  64,  65],\n",
      "        [ 58,  64,  65],\n",
      "        [ 58,  64,  65],\n",
      "        ...,\n",
      "        [255, 255, 255],\n",
      "        [255, 255, 255],\n",
      "        [255, 255, 255]]], dtype=uint8), 0, False, False, {})\n"
     ]
    }
   ],
   "source": [
    "env.reset()\n",
    "print(env.last())"
   ]
  },
  {
   "cell_type": "code",
   "execution_count": 6,
   "id": "9b4f5f3c",
   "metadata": {},
   "outputs": [
    {
     "name": "stdout",
     "output_type": "stream",
     "text": [
      "4999\n",
      "Moviepy - Building video /home/asus/Documents/git/ReinforcementLearning/petting-zoo/video/rl-video-episode-0.mp4.\n",
      "Moviepy - Writing video /home/asus/Documents/git/ReinforcementLearning/petting-zoo/video/rl-video-episode-0.mp4\n",
      "\n"
     ]
    },
    {
     "name": "stderr",
     "output_type": "stream",
     "text": [
      "                                                                                                                                              "
     ]
    },
    {
     "name": "stdout",
     "output_type": "stream",
     "text": [
      "Moviepy - Done !\n",
      "Moviepy - video ready /home/asus/Documents/git/ReinforcementLearning/petting-zoo/video/rl-video-episode-0.mp4\n"
     ]
    },
    {
     "name": "stderr",
     "output_type": "stream",
     "text": [
      "\r"
     ]
    }
   ],
   "source": [
    "from IPython.display import clear_output\n",
    "from time import sleep\n",
    "\n",
    "epochs = 0\n",
    "\n",
    "terminated = False\n",
    "\n",
    "vid_rec.start_video_recorder()\n",
    "while not terminated:\n",
    "    print(epochs)\n",
    "    for agent in env.agent_iter():\n",
    "        observation, reward, termination, truncation, info = env.last()\n",
    "        action = None if termination or truncation else env.action_space(agent).sample()  # this is where you would insert your policy\n",
    "        vid_rec.step(action)\n",
    "    \n",
    "    terminated = termination\n",
    "\n",
    "    epochs += 1\n",
    "    \n",
    "    if epochs == 5000:\n",
    "        break\n",
    "    \n",
    "    clear_output(wait=True)\n",
    "\n",
    "vid_rec.close_video_recorder()\n",
    "env.close()"
   ]
  }
 ],
 "metadata": {
  "kernelspec": {
   "display_name": "Python 3 (ipykernel)",
   "language": "python",
   "name": "python3"
  },
  "language_info": {
   "codemirror_mode": {
    "name": "ipython",
    "version": 3
   },
   "file_extension": ".py",
   "mimetype": "text/x-python",
   "name": "python",
   "nbconvert_exporter": "python",
   "pygments_lexer": "ipython3",
   "version": "3.9.16"
  },
  "vscode": {
   "interpreter": {
    "hash": "9a1fad70a81194003c28831eca0ef1b9c2d011bd8906781eb45fa36cbbf74688"
   }
  }
 },
 "nbformat": 4,
 "nbformat_minor": 5
}
